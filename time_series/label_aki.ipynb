{
 "cells": [
  {
   "cell_type": "code",
   "execution_count": 3,
   "metadata": {},
   "outputs": [],
   "source": [
    "import pandas as pd\n",
    "import numpy as np"
   ]
  },
  {
   "cell_type": "code",
   "execution_count": 4,
   "metadata": {},
   "outputs": [],
   "source": [
    "# Load data\n",
    "path    = \"MIMIC-IV v2.2\\icu\\chartevents.csv\"\n",
    "reader  = pd.read_csv(path, chunksize=10000000)"
   ]
  },
  {
   "cell_type": "code",
   "execution_count": 5,
   "metadata": {},
   "outputs": [],
   "source": [
    "# Calculates AKI stage based on KDIGO criteria: https://www.ncbi.nlm.nih.gov/pmc/articles/PMC4412317/pdf/rbccv-29-03-0299.pdf\n",
    "def calculate_aki_stage(group):\n",
    "    group['aki_stage'] = 0\n",
    "    baseline_creatinine = group.iloc[0]['baseline_creatinine']\n",
    "    for i in range(len(group)):\n",
    "        current_creatinine = group.iloc[i]['valuenum']\n",
    "        time_diff = (group.iloc[i]['charttime'] - group.iloc[0]['charttime']).total_seconds() / 3600  # in hours\n",
    "        \n",
    "        # Baseline creatinine\n",
    "        if current_creatinine >= 4.0 or current_creatinine >= 3.0 * baseline_creatinine:\n",
    "            group.at[group.index[i], 'aki_stage'] = 3\n",
    "        elif current_creatinine >= 2.0 * baseline_creatinine:\n",
    "            group.at[group.index[i], 'aki_stage'] = 2\n",
    "        elif current_creatinine >= 1.5 * baseline_creatinine:\n",
    "            group.at[group.index[i], 'aki_stage'] = 1\n",
    "        \n",
    "        # Last 48 hours\n",
    "        if time_diff <= 48:\n",
    "            if current_creatinine - baseline_creatinine >= 0.3:\n",
    "                group.at[group.index[i], 'aki_stage'] = max(group.at[group.index[i], 'aki_stage'], 1)\n",
    "    return group"
   ]
  },
  {
   "cell_type": "code",
   "execution_count": 6,
   "metadata": {},
   "outputs": [
    {
     "name": "stderr",
     "output_type": "stream",
     "text": [
      "C:\\Users\\Andrew Chen\\AppData\\Local\\Temp\\ipykernel_21212\\3009373029.py:15: DeprecationWarning: DataFrameGroupBy.apply operated on the grouping columns. This behavior is deprecated, and in a future version of pandas the grouping columns will be excluded from the operation. Either pass `include_groups=False` to exclude the groupings or explicitly select the grouping columns after groupby to silence this warning.\n",
      "  aki_patients = creatinine_df.groupby('subject_id').apply(calculate_aki_stage, include_groups=True).reset_index(drop=True)\n"
     ]
    },
    {
     "name": "stdout",
     "output_type": "stream",
     "text": [
      "0\n"
     ]
    },
    {
     "name": "stderr",
     "output_type": "stream",
     "text": [
      "C:\\Users\\Andrew Chen\\AppData\\Local\\Temp\\ipykernel_21212\\3009373029.py:15: DeprecationWarning: DataFrameGroupBy.apply operated on the grouping columns. This behavior is deprecated, and in a future version of pandas the grouping columns will be excluded from the operation. Either pass `include_groups=False` to exclude the groupings or explicitly select the grouping columns after groupby to silence this warning.\n",
      "  aki_patients = creatinine_df.groupby('subject_id').apply(calculate_aki_stage, include_groups=True).reset_index(drop=True)\n"
     ]
    },
    {
     "name": "stdout",
     "output_type": "stream",
     "text": [
      "1\n"
     ]
    },
    {
     "name": "stderr",
     "output_type": "stream",
     "text": [
      "C:\\Users\\Andrew Chen\\AppData\\Local\\Temp\\ipykernel_21212\\3009373029.py:15: DeprecationWarning: DataFrameGroupBy.apply operated on the grouping columns. This behavior is deprecated, and in a future version of pandas the grouping columns will be excluded from the operation. Either pass `include_groups=False` to exclude the groupings or explicitly select the grouping columns after groupby to silence this warning.\n",
      "  aki_patients = creatinine_df.groupby('subject_id').apply(calculate_aki_stage, include_groups=True).reset_index(drop=True)\n"
     ]
    },
    {
     "name": "stdout",
     "output_type": "stream",
     "text": [
      "2\n"
     ]
    },
    {
     "name": "stderr",
     "output_type": "stream",
     "text": [
      "C:\\Users\\Andrew Chen\\AppData\\Local\\Temp\\ipykernel_21212\\3009373029.py:15: DeprecationWarning: DataFrameGroupBy.apply operated on the grouping columns. This behavior is deprecated, and in a future version of pandas the grouping columns will be excluded from the operation. Either pass `include_groups=False` to exclude the groupings or explicitly select the grouping columns after groupby to silence this warning.\n",
      "  aki_patients = creatinine_df.groupby('subject_id').apply(calculate_aki_stage, include_groups=True).reset_index(drop=True)\n"
     ]
    },
    {
     "name": "stdout",
     "output_type": "stream",
     "text": [
      "3\n"
     ]
    },
    {
     "name": "stderr",
     "output_type": "stream",
     "text": [
      "C:\\Users\\Andrew Chen\\AppData\\Local\\Temp\\ipykernel_21212\\3009373029.py:15: DeprecationWarning: DataFrameGroupBy.apply operated on the grouping columns. This behavior is deprecated, and in a future version of pandas the grouping columns will be excluded from the operation. Either pass `include_groups=False` to exclude the groupings or explicitly select the grouping columns after groupby to silence this warning.\n",
      "  aki_patients = creatinine_df.groupby('subject_id').apply(calculate_aki_stage, include_groups=True).reset_index(drop=True)\n"
     ]
    },
    {
     "name": "stdout",
     "output_type": "stream",
     "text": [
      "4\n"
     ]
    },
    {
     "name": "stderr",
     "output_type": "stream",
     "text": [
      "C:\\Users\\Andrew Chen\\AppData\\Local\\Temp\\ipykernel_21212\\3009373029.py:15: DeprecationWarning: DataFrameGroupBy.apply operated on the grouping columns. This behavior is deprecated, and in a future version of pandas the grouping columns will be excluded from the operation. Either pass `include_groups=False` to exclude the groupings or explicitly select the grouping columns after groupby to silence this warning.\n",
      "  aki_patients = creatinine_df.groupby('subject_id').apply(calculate_aki_stage, include_groups=True).reset_index(drop=True)\n"
     ]
    },
    {
     "name": "stdout",
     "output_type": "stream",
     "text": [
      "5\n"
     ]
    },
    {
     "name": "stderr",
     "output_type": "stream",
     "text": [
      "C:\\Users\\Andrew Chen\\AppData\\Local\\Temp\\ipykernel_21212\\3009373029.py:15: DeprecationWarning: DataFrameGroupBy.apply operated on the grouping columns. This behavior is deprecated, and in a future version of pandas the grouping columns will be excluded from the operation. Either pass `include_groups=False` to exclude the groupings or explicitly select the grouping columns after groupby to silence this warning.\n",
      "  aki_patients = creatinine_df.groupby('subject_id').apply(calculate_aki_stage, include_groups=True).reset_index(drop=True)\n"
     ]
    },
    {
     "name": "stdout",
     "output_type": "stream",
     "text": [
      "6\n"
     ]
    },
    {
     "name": "stderr",
     "output_type": "stream",
     "text": [
      "C:\\Users\\Andrew Chen\\AppData\\Local\\Temp\\ipykernel_21212\\3009373029.py:15: DeprecationWarning: DataFrameGroupBy.apply operated on the grouping columns. This behavior is deprecated, and in a future version of pandas the grouping columns will be excluded from the operation. Either pass `include_groups=False` to exclude the groupings or explicitly select the grouping columns after groupby to silence this warning.\n",
      "  aki_patients = creatinine_df.groupby('subject_id').apply(calculate_aki_stage, include_groups=True).reset_index(drop=True)\n"
     ]
    },
    {
     "name": "stdout",
     "output_type": "stream",
     "text": [
      "7\n"
     ]
    },
    {
     "name": "stderr",
     "output_type": "stream",
     "text": [
      "C:\\Users\\Andrew Chen\\AppData\\Local\\Temp\\ipykernel_21212\\3009373029.py:15: DeprecationWarning: DataFrameGroupBy.apply operated on the grouping columns. This behavior is deprecated, and in a future version of pandas the grouping columns will be excluded from the operation. Either pass `include_groups=False` to exclude the groupings or explicitly select the grouping columns after groupby to silence this warning.\n",
      "  aki_patients = creatinine_df.groupby('subject_id').apply(calculate_aki_stage, include_groups=True).reset_index(drop=True)\n"
     ]
    },
    {
     "name": "stdout",
     "output_type": "stream",
     "text": [
      "8\n"
     ]
    },
    {
     "name": "stderr",
     "output_type": "stream",
     "text": [
      "C:\\Users\\Andrew Chen\\AppData\\Local\\Temp\\ipykernel_21212\\3009373029.py:15: DeprecationWarning: DataFrameGroupBy.apply operated on the grouping columns. This behavior is deprecated, and in a future version of pandas the grouping columns will be excluded from the operation. Either pass `include_groups=False` to exclude the groupings or explicitly select the grouping columns after groupby to silence this warning.\n",
      "  aki_patients = creatinine_df.groupby('subject_id').apply(calculate_aki_stage, include_groups=True).reset_index(drop=True)\n"
     ]
    },
    {
     "name": "stdout",
     "output_type": "stream",
     "text": [
      "9\n"
     ]
    },
    {
     "name": "stderr",
     "output_type": "stream",
     "text": [
      "C:\\Users\\Andrew Chen\\AppData\\Local\\Temp\\ipykernel_21212\\3009373029.py:15: DeprecationWarning: DataFrameGroupBy.apply operated on the grouping columns. This behavior is deprecated, and in a future version of pandas the grouping columns will be excluded from the operation. Either pass `include_groups=False` to exclude the groupings or explicitly select the grouping columns after groupby to silence this warning.\n",
      "  aki_patients = creatinine_df.groupby('subject_id').apply(calculate_aki_stage, include_groups=True).reset_index(drop=True)\n"
     ]
    },
    {
     "name": "stdout",
     "output_type": "stream",
     "text": [
      "10\n"
     ]
    },
    {
     "name": "stderr",
     "output_type": "stream",
     "text": [
      "C:\\Users\\Andrew Chen\\AppData\\Local\\Temp\\ipykernel_21212\\3009373029.py:15: DeprecationWarning: DataFrameGroupBy.apply operated on the grouping columns. This behavior is deprecated, and in a future version of pandas the grouping columns will be excluded from the operation. Either pass `include_groups=False` to exclude the groupings or explicitly select the grouping columns after groupby to silence this warning.\n",
      "  aki_patients = creatinine_df.groupby('subject_id').apply(calculate_aki_stage, include_groups=True).reset_index(drop=True)\n"
     ]
    },
    {
     "name": "stdout",
     "output_type": "stream",
     "text": [
      "11\n"
     ]
    },
    {
     "name": "stderr",
     "output_type": "stream",
     "text": [
      "C:\\Users\\Andrew Chen\\AppData\\Local\\Temp\\ipykernel_21212\\3009373029.py:15: DeprecationWarning: DataFrameGroupBy.apply operated on the grouping columns. This behavior is deprecated, and in a future version of pandas the grouping columns will be excluded from the operation. Either pass `include_groups=False` to exclude the groupings or explicitly select the grouping columns after groupby to silence this warning.\n",
      "  aki_patients = creatinine_df.groupby('subject_id').apply(calculate_aki_stage, include_groups=True).reset_index(drop=True)\n"
     ]
    },
    {
     "name": "stdout",
     "output_type": "stream",
     "text": [
      "12\n"
     ]
    },
    {
     "name": "stderr",
     "output_type": "stream",
     "text": [
      "C:\\Users\\Andrew Chen\\AppData\\Local\\Temp\\ipykernel_21212\\3009373029.py:15: DeprecationWarning: DataFrameGroupBy.apply operated on the grouping columns. This behavior is deprecated, and in a future version of pandas the grouping columns will be excluded from the operation. Either pass `include_groups=False` to exclude the groupings or explicitly select the grouping columns after groupby to silence this warning.\n",
      "  aki_patients = creatinine_df.groupby('subject_id').apply(calculate_aki_stage, include_groups=True).reset_index(drop=True)\n"
     ]
    },
    {
     "name": "stdout",
     "output_type": "stream",
     "text": [
      "13\n"
     ]
    },
    {
     "name": "stderr",
     "output_type": "stream",
     "text": [
      "C:\\Users\\Andrew Chen\\AppData\\Local\\Temp\\ipykernel_21212\\3009373029.py:15: DeprecationWarning: DataFrameGroupBy.apply operated on the grouping columns. This behavior is deprecated, and in a future version of pandas the grouping columns will be excluded from the operation. Either pass `include_groups=False` to exclude the groupings or explicitly select the grouping columns after groupby to silence this warning.\n",
      "  aki_patients = creatinine_df.groupby('subject_id').apply(calculate_aki_stage, include_groups=True).reset_index(drop=True)\n"
     ]
    },
    {
     "name": "stdout",
     "output_type": "stream",
     "text": [
      "14\n"
     ]
    },
    {
     "name": "stderr",
     "output_type": "stream",
     "text": [
      "C:\\Users\\Andrew Chen\\AppData\\Local\\Temp\\ipykernel_21212\\3009373029.py:15: DeprecationWarning: DataFrameGroupBy.apply operated on the grouping columns. This behavior is deprecated, and in a future version of pandas the grouping columns will be excluded from the operation. Either pass `include_groups=False` to exclude the groupings or explicitly select the grouping columns after groupby to silence this warning.\n",
      "  aki_patients = creatinine_df.groupby('subject_id').apply(calculate_aki_stage, include_groups=True).reset_index(drop=True)\n"
     ]
    },
    {
     "name": "stdout",
     "output_type": "stream",
     "text": [
      "15\n"
     ]
    },
    {
     "name": "stderr",
     "output_type": "stream",
     "text": [
      "C:\\Users\\Andrew Chen\\AppData\\Local\\Temp\\ipykernel_21212\\3009373029.py:15: DeprecationWarning: DataFrameGroupBy.apply operated on the grouping columns. This behavior is deprecated, and in a future version of pandas the grouping columns will be excluded from the operation. Either pass `include_groups=False` to exclude the groupings or explicitly select the grouping columns after groupby to silence this warning.\n",
      "  aki_patients = creatinine_df.groupby('subject_id').apply(calculate_aki_stage, include_groups=True).reset_index(drop=True)\n"
     ]
    },
    {
     "name": "stdout",
     "output_type": "stream",
     "text": [
      "16\n"
     ]
    },
    {
     "name": "stderr",
     "output_type": "stream",
     "text": [
      "C:\\Users\\Andrew Chen\\AppData\\Local\\Temp\\ipykernel_21212\\3009373029.py:15: DeprecationWarning: DataFrameGroupBy.apply operated on the grouping columns. This behavior is deprecated, and in a future version of pandas the grouping columns will be excluded from the operation. Either pass `include_groups=False` to exclude the groupings or explicitly select the grouping columns after groupby to silence this warning.\n",
      "  aki_patients = creatinine_df.groupby('subject_id').apply(calculate_aki_stage, include_groups=True).reset_index(drop=True)\n"
     ]
    },
    {
     "name": "stdout",
     "output_type": "stream",
     "text": [
      "17\n"
     ]
    },
    {
     "name": "stderr",
     "output_type": "stream",
     "text": [
      "C:\\Users\\Andrew Chen\\AppData\\Local\\Temp\\ipykernel_21212\\3009373029.py:15: DeprecationWarning: DataFrameGroupBy.apply operated on the grouping columns. This behavior is deprecated, and in a future version of pandas the grouping columns will be excluded from the operation. Either pass `include_groups=False` to exclude the groupings or explicitly select the grouping columns after groupby to silence this warning.\n",
      "  aki_patients = creatinine_df.groupby('subject_id').apply(calculate_aki_stage, include_groups=True).reset_index(drop=True)\n"
     ]
    },
    {
     "name": "stdout",
     "output_type": "stream",
     "text": [
      "18\n"
     ]
    },
    {
     "name": "stderr",
     "output_type": "stream",
     "text": [
      "C:\\Users\\Andrew Chen\\AppData\\Local\\Temp\\ipykernel_21212\\3009373029.py:15: DeprecationWarning: DataFrameGroupBy.apply operated on the grouping columns. This behavior is deprecated, and in a future version of pandas the grouping columns will be excluded from the operation. Either pass `include_groups=False` to exclude the groupings or explicitly select the grouping columns after groupby to silence this warning.\n",
      "  aki_patients = creatinine_df.groupby('subject_id').apply(calculate_aki_stage, include_groups=True).reset_index(drop=True)\n"
     ]
    },
    {
     "name": "stdout",
     "output_type": "stream",
     "text": [
      "19\n"
     ]
    },
    {
     "name": "stderr",
     "output_type": "stream",
     "text": [
      "C:\\Users\\Andrew Chen\\AppData\\Local\\Temp\\ipykernel_21212\\3009373029.py:15: DeprecationWarning: DataFrameGroupBy.apply operated on the grouping columns. This behavior is deprecated, and in a future version of pandas the grouping columns will be excluded from the operation. Either pass `include_groups=False` to exclude the groupings or explicitly select the grouping columns after groupby to silence this warning.\n",
      "  aki_patients = creatinine_df.groupby('subject_id').apply(calculate_aki_stage, include_groups=True).reset_index(drop=True)\n"
     ]
    },
    {
     "name": "stdout",
     "output_type": "stream",
     "text": [
      "20\n"
     ]
    },
    {
     "name": "stderr",
     "output_type": "stream",
     "text": [
      "C:\\Users\\Andrew Chen\\AppData\\Local\\Temp\\ipykernel_21212\\3009373029.py:15: DeprecationWarning: DataFrameGroupBy.apply operated on the grouping columns. This behavior is deprecated, and in a future version of pandas the grouping columns will be excluded from the operation. Either pass `include_groups=False` to exclude the groupings or explicitly select the grouping columns after groupby to silence this warning.\n",
      "  aki_patients = creatinine_df.groupby('subject_id').apply(calculate_aki_stage, include_groups=True).reset_index(drop=True)\n"
     ]
    },
    {
     "name": "stdout",
     "output_type": "stream",
     "text": [
      "21\n"
     ]
    },
    {
     "name": "stderr",
     "output_type": "stream",
     "text": [
      "C:\\Users\\Andrew Chen\\AppData\\Local\\Temp\\ipykernel_21212\\3009373029.py:15: DeprecationWarning: DataFrameGroupBy.apply operated on the grouping columns. This behavior is deprecated, and in a future version of pandas the grouping columns will be excluded from the operation. Either pass `include_groups=False` to exclude the groupings or explicitly select the grouping columns after groupby to silence this warning.\n",
      "  aki_patients = creatinine_df.groupby('subject_id').apply(calculate_aki_stage, include_groups=True).reset_index(drop=True)\n"
     ]
    },
    {
     "name": "stdout",
     "output_type": "stream",
     "text": [
      "22\n"
     ]
    },
    {
     "name": "stderr",
     "output_type": "stream",
     "text": [
      "C:\\Users\\Andrew Chen\\AppData\\Local\\Temp\\ipykernel_21212\\3009373029.py:15: DeprecationWarning: DataFrameGroupBy.apply operated on the grouping columns. This behavior is deprecated, and in a future version of pandas the grouping columns will be excluded from the operation. Either pass `include_groups=False` to exclude the groupings or explicitly select the grouping columns after groupby to silence this warning.\n",
      "  aki_patients = creatinine_df.groupby('subject_id').apply(calculate_aki_stage, include_groups=True).reset_index(drop=True)\n"
     ]
    },
    {
     "name": "stdout",
     "output_type": "stream",
     "text": [
      "23\n"
     ]
    },
    {
     "name": "stderr",
     "output_type": "stream",
     "text": [
      "C:\\Users\\Andrew Chen\\AppData\\Local\\Temp\\ipykernel_21212\\3009373029.py:15: DeprecationWarning: DataFrameGroupBy.apply operated on the grouping columns. This behavior is deprecated, and in a future version of pandas the grouping columns will be excluded from the operation. Either pass `include_groups=False` to exclude the groupings or explicitly select the grouping columns after groupby to silence this warning.\n",
      "  aki_patients = creatinine_df.groupby('subject_id').apply(calculate_aki_stage, include_groups=True).reset_index(drop=True)\n"
     ]
    },
    {
     "name": "stdout",
     "output_type": "stream",
     "text": [
      "24\n"
     ]
    },
    {
     "name": "stderr",
     "output_type": "stream",
     "text": [
      "C:\\Users\\Andrew Chen\\AppData\\Local\\Temp\\ipykernel_21212\\3009373029.py:15: DeprecationWarning: DataFrameGroupBy.apply operated on the grouping columns. This behavior is deprecated, and in a future version of pandas the grouping columns will be excluded from the operation. Either pass `include_groups=False` to exclude the groupings or explicitly select the grouping columns after groupby to silence this warning.\n",
      "  aki_patients = creatinine_df.groupby('subject_id').apply(calculate_aki_stage, include_groups=True).reset_index(drop=True)\n"
     ]
    },
    {
     "name": "stdout",
     "output_type": "stream",
     "text": [
      "25\n"
     ]
    },
    {
     "name": "stderr",
     "output_type": "stream",
     "text": [
      "C:\\Users\\Andrew Chen\\AppData\\Local\\Temp\\ipykernel_21212\\3009373029.py:15: DeprecationWarning: DataFrameGroupBy.apply operated on the grouping columns. This behavior is deprecated, and in a future version of pandas the grouping columns will be excluded from the operation. Either pass `include_groups=False` to exclude the groupings or explicitly select the grouping columns after groupby to silence this warning.\n",
      "  aki_patients = creatinine_df.groupby('subject_id').apply(calculate_aki_stage, include_groups=True).reset_index(drop=True)\n"
     ]
    },
    {
     "name": "stdout",
     "output_type": "stream",
     "text": [
      "26\n"
     ]
    },
    {
     "name": "stderr",
     "output_type": "stream",
     "text": [
      "C:\\Users\\Andrew Chen\\AppData\\Local\\Temp\\ipykernel_21212\\3009373029.py:15: DeprecationWarning: DataFrameGroupBy.apply operated on the grouping columns. This behavior is deprecated, and in a future version of pandas the grouping columns will be excluded from the operation. Either pass `include_groups=False` to exclude the groupings or explicitly select the grouping columns after groupby to silence this warning.\n",
      "  aki_patients = creatinine_df.groupby('subject_id').apply(calculate_aki_stage, include_groups=True).reset_index(drop=True)\n"
     ]
    },
    {
     "name": "stdout",
     "output_type": "stream",
     "text": [
      "27\n"
     ]
    },
    {
     "name": "stderr",
     "output_type": "stream",
     "text": [
      "C:\\Users\\Andrew Chen\\AppData\\Local\\Temp\\ipykernel_21212\\3009373029.py:15: DeprecationWarning: DataFrameGroupBy.apply operated on the grouping columns. This behavior is deprecated, and in a future version of pandas the grouping columns will be excluded from the operation. Either pass `include_groups=False` to exclude the groupings or explicitly select the grouping columns after groupby to silence this warning.\n",
      "  aki_patients = creatinine_df.groupby('subject_id').apply(calculate_aki_stage, include_groups=True).reset_index(drop=True)\n"
     ]
    },
    {
     "name": "stdout",
     "output_type": "stream",
     "text": [
      "28\n"
     ]
    },
    {
     "name": "stderr",
     "output_type": "stream",
     "text": [
      "C:\\Users\\Andrew Chen\\AppData\\Local\\Temp\\ipykernel_21212\\3009373029.py:15: DeprecationWarning: DataFrameGroupBy.apply operated on the grouping columns. This behavior is deprecated, and in a future version of pandas the grouping columns will be excluded from the operation. Either pass `include_groups=False` to exclude the groupings or explicitly select the grouping columns after groupby to silence this warning.\n",
      "  aki_patients = creatinine_df.groupby('subject_id').apply(calculate_aki_stage, include_groups=True).reset_index(drop=True)\n"
     ]
    },
    {
     "name": "stdout",
     "output_type": "stream",
     "text": [
      "29\n"
     ]
    },
    {
     "name": "stderr",
     "output_type": "stream",
     "text": [
      "C:\\Users\\Andrew Chen\\AppData\\Local\\Temp\\ipykernel_21212\\3009373029.py:15: DeprecationWarning: DataFrameGroupBy.apply operated on the grouping columns. This behavior is deprecated, and in a future version of pandas the grouping columns will be excluded from the operation. Either pass `include_groups=False` to exclude the groupings or explicitly select the grouping columns after groupby to silence this warning.\n",
      "  aki_patients = creatinine_df.groupby('subject_id').apply(calculate_aki_stage, include_groups=True).reset_index(drop=True)\n"
     ]
    },
    {
     "name": "stdout",
     "output_type": "stream",
     "text": [
      "30\n",
      "31\n"
     ]
    },
    {
     "name": "stderr",
     "output_type": "stream",
     "text": [
      "C:\\Users\\Andrew Chen\\AppData\\Local\\Temp\\ipykernel_21212\\3009373029.py:15: DeprecationWarning: DataFrameGroupBy.apply operated on the grouping columns. This behavior is deprecated, and in a future version of pandas the grouping columns will be excluded from the operation. Either pass `include_groups=False` to exclude the groupings or explicitly select the grouping columns after groupby to silence this warning.\n",
      "  aki_patients = creatinine_df.groupby('subject_id').apply(calculate_aki_stage, include_groups=True).reset_index(drop=True)\n"
     ]
    }
   ],
   "source": [
    "for i, df in enumerate(reader):\n",
    "    # Get only creatinine values and convert charttime to datetime\n",
    "    creatinine_df = df[df['itemid'] == 220615]\n",
    "    creatinine_df = creatinine_df[['subject_id', 'stay_id', 'charttime', 'valuenum', 'warning']]\n",
    "    creatinine_df['charttime'] = pd.to_datetime(creatinine_df['charttime'])\n",
    "\n",
    "    # Set baseline\n",
    "    baseline_df = creatinine_df.groupby('subject_id')['valuenum'].quantile(0.25).reset_index()\n",
    "    # baseline_df = creatinine_df.groupby('subject_id')['valuenum'].min().reset_index()\n",
    "    baseline_df.columns = ['subject_id', 'baseline_creatinine']\n",
    "    creatinine_df = creatinine_df.merge(baseline_df, on='subject_id')\n",
    "\n",
    "    # Calculate AKI stage\n",
    "    aki_patients = creatinine_df.groupby('subject_id').apply(calculate_aki_stage, include_groups=True).reset_index(drop=True)\n",
    "\n",
    "    # Save to file without overwriting\n",
    "    path = 'aki_patients_low_quartile.csv'\n",
    "    if i == 0:\n",
    "        aki_patients.to_csv(path, index=False)\n",
    "    else:\n",
    "        aki_patients.to_csv(path, mode='a', header=False, index=False)\n",
    "\n",
    "    print(f\"{i}\")"
   ]
  }
 ],
 "metadata": {
  "kernelspec": {
   "display_name": "Python 3",
   "language": "python",
   "name": "python3"
  },
  "language_info": {
   "codemirror_mode": {
    "name": "ipython",
    "version": 3
   },
   "file_extension": ".py",
   "mimetype": "text/x-python",
   "name": "python",
   "nbconvert_exporter": "python",
   "pygments_lexer": "ipython3",
   "version": "3.10.1"
  }
 },
 "nbformat": 4,
 "nbformat_minor": 2
}

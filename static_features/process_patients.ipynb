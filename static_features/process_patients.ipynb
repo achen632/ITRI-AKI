{
 "cells": [
  {
   "cell_type": "code",
   "execution_count": 7,
   "metadata": {},
   "outputs": [],
   "source": [
    "import numpy as np\n",
    "import pandas as pd\n",
    "import matplotlib.pyplot as plt"
   ]
  },
  {
   "cell_type": "code",
   "execution_count": 8,
   "metadata": {},
   "outputs": [],
   "source": [
    "# Load data\n",
    "path_patients   = 'MIMIC-IV v2.2/hosp/patients.csv'\n",
    "df              = pd.read_csv(path_patients)"
   ]
  },
  {
   "cell_type": "code",
   "execution_count": 9,
   "metadata": {},
   "outputs": [],
   "source": [
    "# Change gender to binary values\n",
    "df['gender'] = df['gender'].apply(lambda x: 1 if x.strip() == 'M' else 0)\n",
    "df.rename(columns={'gender':'isMale'}, inplace=True)\n",
    "\n",
    "# Convert strings into ints and year group range into separate columns\n",
    "df['dod'] = df['dod'].apply(lambda x: pd.to_datetime(x).timestamp() if not pd.isnull(x) else np.nan)\n",
    "df[['anchor_year_group_start', 'anchor_year_group_end']] = df['anchor_year_group'].str.split(\" - \", expand=True).astype(int)\n",
    "df.drop(columns=['anchor_year_group'], inplace=True)"
   ]
  },
  {
   "cell_type": "code",
   "execution_count": 10,
   "metadata": {},
   "outputs": [
    {
     "data": {
      "text/html": [
       "<div>\n",
       "<style scoped>\n",
       "    .dataframe tbody tr th:only-of-type {\n",
       "        vertical-align: middle;\n",
       "    }\n",
       "\n",
       "    .dataframe tbody tr th {\n",
       "        vertical-align: top;\n",
       "    }\n",
       "\n",
       "    .dataframe thead th {\n",
       "        text-align: right;\n",
       "    }\n",
       "</style>\n",
       "<table border=\"1\" class=\"dataframe\">\n",
       "  <thead>\n",
       "    <tr style=\"text-align: right;\">\n",
       "      <th></th>\n",
       "      <th>subject_id</th>\n",
       "      <th>isMale</th>\n",
       "      <th>anchor_age</th>\n",
       "      <th>anchor_year</th>\n",
       "      <th>dod</th>\n",
       "      <th>anchor_year_group_start</th>\n",
       "      <th>anchor_year_group_end</th>\n",
       "    </tr>\n",
       "  </thead>\n",
       "  <tbody>\n",
       "    <tr>\n",
       "      <th>0</th>\n",
       "      <td>10000032</td>\n",
       "      <td>0</td>\n",
       "      <td>52</td>\n",
       "      <td>2180</td>\n",
       "      <td>6.648739e+09</td>\n",
       "      <td>2014</td>\n",
       "      <td>2016</td>\n",
       "    </tr>\n",
       "    <tr>\n",
       "      <th>1</th>\n",
       "      <td>10000048</td>\n",
       "      <td>0</td>\n",
       "      <td>23</td>\n",
       "      <td>2126</td>\n",
       "      <td>NaN</td>\n",
       "      <td>2008</td>\n",
       "      <td>2010</td>\n",
       "    </tr>\n",
       "    <tr>\n",
       "      <th>2</th>\n",
       "      <td>10000068</td>\n",
       "      <td>0</td>\n",
       "      <td>19</td>\n",
       "      <td>2160</td>\n",
       "      <td>NaN</td>\n",
       "      <td>2008</td>\n",
       "      <td>2010</td>\n",
       "    </tr>\n",
       "    <tr>\n",
       "      <th>3</th>\n",
       "      <td>10000084</td>\n",
       "      <td>1</td>\n",
       "      <td>72</td>\n",
       "      <td>2160</td>\n",
       "      <td>6.031152e+09</td>\n",
       "      <td>2017</td>\n",
       "      <td>2019</td>\n",
       "    </tr>\n",
       "    <tr>\n",
       "      <th>4</th>\n",
       "      <td>10000102</td>\n",
       "      <td>0</td>\n",
       "      <td>27</td>\n",
       "      <td>2136</td>\n",
       "      <td>NaN</td>\n",
       "      <td>2008</td>\n",
       "      <td>2010</td>\n",
       "    </tr>\n",
       "  </tbody>\n",
       "</table>\n",
       "</div>"
      ],
      "text/plain": [
       "   subject_id  isMale  anchor_age  anchor_year           dod  \\\n",
       "0    10000032       0          52         2180  6.648739e+09   \n",
       "1    10000048       0          23         2126           NaN   \n",
       "2    10000068       0          19         2160           NaN   \n",
       "3    10000084       1          72         2160  6.031152e+09   \n",
       "4    10000102       0          27         2136           NaN   \n",
       "\n",
       "   anchor_year_group_start  anchor_year_group_end  \n",
       "0                     2014                   2016  \n",
       "1                     2008                   2010  \n",
       "2                     2008                   2010  \n",
       "3                     2017                   2019  \n",
       "4                     2008                   2010  "
      ]
     },
     "execution_count": 10,
     "metadata": {},
     "output_type": "execute_result"
    }
   ],
   "source": [
    "df.head()"
   ]
  },
  {
   "cell_type": "code",
   "execution_count": 11,
   "metadata": {},
   "outputs": [
    {
     "data": {
      "text/plain": [
       "subject_id                   int64\n",
       "isMale                       int64\n",
       "anchor_age                   int64\n",
       "anchor_year                  int64\n",
       "dod                        float64\n",
       "anchor_year_group_start      int32\n",
       "anchor_year_group_end        int32\n",
       "dtype: object"
      ]
     },
     "execution_count": 11,
     "metadata": {},
     "output_type": "execute_result"
    }
   ],
   "source": [
    "df.dtypes"
   ]
  },
  {
   "cell_type": "code",
   "execution_count": 12,
   "metadata": {},
   "outputs": [],
   "source": [
    "# Export CSV for later use\n",
    "df.to_csv('processed_data/patients.csv', index=False)"
   ]
  }
 ],
 "metadata": {
  "kernelspec": {
   "display_name": "Python 3",
   "language": "python",
   "name": "python3"
  },
  "language_info": {
   "codemirror_mode": {
    "name": "ipython",
    "version": 3
   },
   "file_extension": ".py",
   "mimetype": "text/x-python",
   "name": "python",
   "nbconvert_exporter": "python",
   "pygments_lexer": "ipython3",
   "version": "3.10.1"
  }
 },
 "nbformat": 4,
 "nbformat_minor": 2
}

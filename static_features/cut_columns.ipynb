{
 "cells": [
  {
   "cell_type": "code",
   "execution_count": 2,
   "metadata": {},
   "outputs": [],
   "source": [
    "import pandas as pd\n",
    "import numpy as np"
   ]
  },
  {
   "cell_type": "code",
   "execution_count": 3,
   "metadata": {},
   "outputs": [
    {
     "data": {
      "text/plain": [
       "(299754, 112)"
      ]
     },
     "execution_count": 3,
     "metadata": {},
     "output_type": "execute_result"
    }
   ],
   "source": [
    "# Load data\n",
    "path    = \"processed_data\\combine_select_features.csv\"\n",
    "df      = pd.read_csv(path)\n",
    "df.shape"
   ]
  },
  {
   "cell_type": "code",
   "execution_count": 29,
   "metadata": {},
   "outputs": [],
   "source": [
    "# Define columns\n",
    "lab_items = [\n",
    "    'Calculated Bicarbonate, Whole Blood', 'Glucose', 'Hemoglobin', 'Lactate', 'PEEP',\n",
    "    'Potassium, Whole Blood', 'Sodium, Whole Blood', 'Potassium', 'Glucose, Ascites', 'Urea Nitrogen, Ascites',\n",
    "    'Absolute Hemoglobin', 'Albumin', 'Bicarbonate', 'Creatine Kinase (CK)', 'Creatine Kinase, MB Isoenzyme',\n",
    "    'Creatinine', 'Glucose', 'Potassium', 'Sodium', 'Urea Nitrogen', 'Glucose, Joint Fluid', 'Glucose, Body Fluid',\n",
    "    'Urea Nitrogen, Body Fluid', 'Glucose, Pleural', 'Creatinine, Serum', 'Glucose, Urine', 'Urea Nitrogen, Urine',\n",
    "    'Hemoglobin', 'Hemoglobin A2', 'Hemoglobin C', 'Hemoglobin F', 'Hemogloblin A', 'Hemogloblin S', 'Large Platelets',\n",
    "    'Platelet Clumps', 'Platelet Count', 'Platelet Smear', 'Glucose', 'Creatine Kinase, Isoenzyme BB', 'Creatine Kinase, Isoenzyme MB',\n",
    "    'Creatine Kinase, Isoenzyme MM', 'Hemoglobin', 'Hemoglobin A', 'Hemoglobin A1', 'Hemoglobin A2', 'Hemoglobin C',\n",
    "    'Hemoglobin, Calculated', 'Hemoglobin F', 'Hemoglobin S', 'Platelet Count', 'Glucose, CSF', 'Urea Nitrogen, CSF',\n",
    "    'Urea Nitrogen, Joint Fluid', '(Albumi', '<Albumin>', 'Urea Nitrogen, Pleural', 'Glucose, Stool', 'Urea Nitrogen, Stool',\n",
    "    'Glucose', 'Albumin, Blood', 'Glucose, Whole Blood', 'Calculated Bicarbonate', 'Lactate', 'Potassium, Whole Blood',\n",
    "    'Sodium, Whole Blood', 'Creatinine', 'Glucose', 'Potassium', 'Sodium', 'Urea Nitrogen', 'Albumin', '(Albumin)', 'Lactate'\n",
    "]\n",
    "\n",
    "chart_items = [\n",
    "    'Heart Rate', 'Heart Rhythm', 'Arterial Blood Pressure systolic', 'Arterial Blood Pressure diastolic', 'Arterial Blood Pressure mean',\n",
    "    'Arterial Blood Pressure mean', 'Pulmonary Artery Pressure systolic', 'Pulmonary Artery Pressure diastolic', 'Pulmonary Artery Pressure mean',\n",
    "    'Central Venous Pressure', 'Cardiac Output (thermodilution)', 'Non Invasive Blood Pressure systolic', 'Non Invasive Blood Pressure diastolic',\n",
    "    'Respiratory Rate', 'Arterial O2 Saturation', 'Hemoglobin', 'O2 saturation pulseoxymetry', 'Resistance', 'PEEP set', 'Glucose (ingr)',\n",
    "    'Potassium (ingr)', 'ZProthrombin time', 'ZAlbumin', 'Creatinine (serum)', 'Glucose (serum)', 'ZPotassium (serum)', 'Sodium (serum)',\n",
    "    'ZSpecific Gravity (urine)', 'Albumin (Human) 20%', 'Albumin 25%', 'Albumin (Human) 4%', 'Albumin 5%', 'Lactate (ingr)', 'Ringers Lactate',\n",
    "    'Epinephrine', 'Norepinephrine', 'Temperature Fahrenheit', 'Temperature Celsius', 'Inspired O2 Fraction', 'Skin Temperature', 'Respiratory Rate (Set)',\n",
    "    'Respiratory Rate (spontaneous)', 'Respiratory Rate (Total)', 'ZAuto Peep Level', 'Total PEEP Level', 'Cardiac Output (CCO)', 'ZPlatelet Count',\n",
    "    'Venous CO2 Pressure', 'Venous O2 Pressure', 'Blood Temperature CCO (C)', 'Sodium (whole blood)', 'ZPotassium (whole blood)', 'Glucose (whole blood)',\n",
    "    'Urine and GU Irrigant Out', 'OR Urine', 'PACU Urine', 'FiO2ApacheIIValue', 'MapApacheIIScore', 'MapApacheIIValue', 'FiO2_ApacheIV_old',\n",
    "    'FiO2_ApacheIV', 'MAP_ApacheIV', 'MapScore_ApacheIV', 'TemperatureF_ApacheIV', 'Potassium (serum)', 'Albumin', 'Platelet Count', 'Potassium (whole blood)',\n",
    "    'Prothrombin time', 'Autoset/CPAP', 'PAR-Oxygen saturation', 'Cardiac Output (CO NICOM)', 'Glucose (whole blood) (soft)', 'Sodium (serum) (soft)',\n",
    "    'Sodium (whole blood) (soft)', 'FiO2 (ECMO)', 'Epinephrine.', 'FiO2 (CH)', 'Cardiac Output (CO) (Impella)'\n",
    "]"
   ]
  },
  {
   "cell_type": "code",
   "execution_count": 44,
   "metadata": {},
   "outputs": [
    {
     "data": {
      "text/plain": [
       "(111387, 84)"
      ]
     },
     "execution_count": 44,
     "metadata": {},
     "output_type": "execute_result"
    }
   ],
   "source": [
    "features =  lab_items + chart_items\n",
    "features = list(set(features))\n",
    "features = [feature for feature in features if feature in df.columns]\n",
    "features.sort()\n",
    "features = ['subject_id', 'dod', 'isMale', 'anchor_age', 'anchor_year', 'anchor_year_group_start',\n",
    "               'anchor_year_group_end', 'BMI (kg/m2)', 'Height (Inches)', 'Weight (Lbs)',\n",
    "               'BMI (kg/m2)_date', 'Blood Pressure_date', 'Height (Inches)_date',\n",
    "               'Weight (Lbs)_date', 'Systolic BP', 'Diastolic BP', 'admittime',\n",
    "               'marital_status', 'race'] + features\n",
    "test = df[features]\n",
    "test = test.dropna(thresh=1000, axis=1)\n",
    "test = test.dropna(thresh=20)\n",
    "test.to_csv(\"processed_data/combine_select_features_min20perrow.csv\", index=False)\n",
    "test.shape"
   ]
  }
 ],
 "metadata": {
  "kernelspec": {
   "display_name": "Python 3",
   "language": "python",
   "name": "python3"
  },
  "language_info": {
   "codemirror_mode": {
    "name": "ipython",
    "version": 3
   },
   "file_extension": ".py",
   "mimetype": "text/x-python",
   "name": "python",
   "nbconvert_exporter": "python",
   "pygments_lexer": "ipython3",
   "version": "3.10.1"
  }
 },
 "nbformat": 4,
 "nbformat_minor": 2
}

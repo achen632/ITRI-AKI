{
 "cells": [
  {
   "cell_type": "code",
   "execution_count": 1,
   "metadata": {},
   "outputs": [],
   "source": [
    "import numpy as np\n",
    "import pandas as pd\n",
    "\n",
    "import matplotlib.pyplot as plt"
   ]
  },
  {
   "cell_type": "code",
   "execution_count": 2,
   "metadata": {},
   "outputs": [],
   "source": [
    "# Load data\n",
    "path_omr    = 'MIMIC-IV v2.2/hosp/omr.csv'\n",
    "df_omr      = pd.read_csv(path_omr)"
   ]
  },
  {
   "cell_type": "code",
   "execution_count": 3,
   "metadata": {},
   "outputs": [],
   "source": [
    "# Convert data into floats\n",
    "df_omr['chartdate'] = pd.to_datetime(df_omr['chartdate'])\n",
    "df_omr['chartdate'] = df_omr['chartdate'].apply(lambda x: x.timestamp())\n",
    "\n",
    "# Keep only the most recent result for each patient\n",
    "df_omr = df_omr.sort_values(by=['subject_id', 'result_name', 'chartdate'], ascending=[True, True, False])\n",
    "df_omr = df_omr.drop_duplicates(subset=['subject_id', 'result_name'], keep='first')"
   ]
  },
  {
   "cell_type": "code",
   "execution_count": 4,
   "metadata": {},
   "outputs": [],
   "source": [
    "# Pivot the table such that each row is a patient and each column is a measurement\n",
    "pivot_values_df = df_omr.pivot_table(index='subject_id', columns='result_name', values='result_value', aggfunc='first')\n",
    "pivot_dates_df = df_omr.pivot_table(index='subject_id', columns='result_name', values='chartdate', aggfunc='first')\n",
    "\n",
    "# Add dates to each measurements\n",
    "pivot_dates_df = pivot_dates_df.add_suffix('_date')\n",
    "pivot_dates_df.rename(columns={'subject_id_date': 'subject_id'}, inplace=True)\n",
    "df = pd.merge(pivot_values_df, pivot_dates_df, on='subject_id')\n",
    "df.columns.name = None"
   ]
  },
  {
   "cell_type": "code",
   "execution_count": 5,
   "metadata": {},
   "outputs": [],
   "source": [
    "# Drop columns with more than 20% missing values or irrelevant\n",
    "missing_values = df.isnull().sum() / len(df)\n",
    "columns_to_drop = missing_values[missing_values > 0.2].index\n",
    "df = df.drop(columns=columns_to_drop)\n",
    "\n",
    "# Drop the entries where Weight or BP is missing\n",
    "df = df.dropna(subset=['Weight (Lbs)'])\n",
    "df = df.dropna(subset=['Blood Pressure'])\n",
    "df = df.dropna(subset=['Height (Inches)'])"
   ]
  },
  {
   "cell_type": "code",
   "execution_count": 6,
   "metadata": {},
   "outputs": [],
   "source": [
    "# Split blood pressure column into systolic and diastolic columns\n",
    "df['Systolic BP'] = df['Blood Pressure'].apply(lambda x: x.split('/')[0])\n",
    "df['Diastolic BP'] = df['Blood Pressure'].apply(lambda x: x.split('/')[1])\n",
    "df.drop(columns=['Blood Pressure'], inplace=True)\n",
    "\n",
    "# Convert selected numerical columns to float\n",
    "numerical_columns = ['BMI (kg/m2)', 'Weight (Lbs)', 'Weight (Lbs)_date', 'Systolic BP', 'Diastolic BP', 'Blood Pressure_date', 'Height (Inches)_date', 'Height (Inches)']\n",
    "df[numerical_columns] = df[numerical_columns].astype(float)\n",
    "\n",
    "# Calculate missing BMI values\n",
    "df['BMI (kg/m2)'] = df['BMI (kg/m2)'].fillna(df['Weight (Lbs)'] / (df['Height (Inches)'] ** 2) * 703)\n",
    "\n",
    "# Fill in missing BMI dates with most recent height or weight dates\n",
    "df['BMI (kg/m2)_date'] = df['BMI (kg/m2)_date'].fillna(df[['Weight (Lbs)_date', 'Height (Inches)_date']].max(axis=1))\n",
    "\n",
    "# Include subject_id as a column\n",
    "df.insert(0, 'subject_id', df.index)\n",
    "df.reset_index(inplace=True, drop=True)"
   ]
  },
  {
   "cell_type": "code",
   "execution_count": 7,
   "metadata": {},
   "outputs": [
    {
     "data": {
      "text/html": [
       "<div>\n",
       "<style scoped>\n",
       "    .dataframe tbody tr th:only-of-type {\n",
       "        vertical-align: middle;\n",
       "    }\n",
       "\n",
       "    .dataframe tbody tr th {\n",
       "        vertical-align: top;\n",
       "    }\n",
       "\n",
       "    .dataframe thead th {\n",
       "        text-align: right;\n",
       "    }\n",
       "</style>\n",
       "<table border=\"1\" class=\"dataframe\">\n",
       "  <thead>\n",
       "    <tr style=\"text-align: right;\">\n",
       "      <th></th>\n",
       "      <th>subject_id</th>\n",
       "      <th>BMI (kg/m2)</th>\n",
       "      <th>Height (Inches)</th>\n",
       "      <th>Weight (Lbs)</th>\n",
       "      <th>BMI (kg/m2)_date</th>\n",
       "      <th>Blood Pressure_date</th>\n",
       "      <th>Height (Inches)_date</th>\n",
       "      <th>Weight (Lbs)_date</th>\n",
       "      <th>Systolic BP</th>\n",
       "      <th>Diastolic BP</th>\n",
       "    </tr>\n",
       "  </thead>\n",
       "  <tbody>\n",
       "    <tr>\n",
       "      <th>0</th>\n",
       "      <td>10000032</td>\n",
       "      <td>18.2</td>\n",
       "      <td>60.0</td>\n",
       "      <td>93.03</td>\n",
       "      <td>6.645802e+09</td>\n",
       "      <td>6.643382e+09</td>\n",
       "      <td>6.641914e+09</td>\n",
       "      <td>6.645802e+09</td>\n",
       "      <td>98.0</td>\n",
       "      <td>66.0</td>\n",
       "    </tr>\n",
       "    <tr>\n",
       "      <th>1</th>\n",
       "      <td>10000117</td>\n",
       "      <td>18.9</td>\n",
       "      <td>64.0</td>\n",
       "      <td>110.00</td>\n",
       "      <td>6.775574e+09</td>\n",
       "      <td>6.775574e+09</td>\n",
       "      <td>6.775574e+09</td>\n",
       "      <td>6.775574e+09</td>\n",
       "      <td>108.0</td>\n",
       "      <td>74.0</td>\n",
       "    </tr>\n",
       "    <tr>\n",
       "      <th>2</th>\n",
       "      <td>10000635</td>\n",
       "      <td>34.8</td>\n",
       "      <td>67.0</td>\n",
       "      <td>222.10</td>\n",
       "      <td>5.438275e+09</td>\n",
       "      <td>5.438275e+09</td>\n",
       "      <td>5.438275e+09</td>\n",
       "      <td>5.438275e+09</td>\n",
       "      <td>148.0</td>\n",
       "      <td>63.0</td>\n",
       "    </tr>\n",
       "    <tr>\n",
       "      <th>3</th>\n",
       "      <td>10000719</td>\n",
       "      <td>37.0</td>\n",
       "      <td>67.0</td>\n",
       "      <td>236.00</td>\n",
       "      <td>5.392138e+09</td>\n",
       "      <td>5.392138e+09</td>\n",
       "      <td>5.392138e+09</td>\n",
       "      <td>5.392138e+09</td>\n",
       "      <td>144.0</td>\n",
       "      <td>88.0</td>\n",
       "    </tr>\n",
       "    <tr>\n",
       "      <th>4</th>\n",
       "      <td>10000826</td>\n",
       "      <td>22.3</td>\n",
       "      <td>68.0</td>\n",
       "      <td>147.00</td>\n",
       "      <td>5.633280e+09</td>\n",
       "      <td>5.633280e+09</td>\n",
       "      <td>5.613754e+09</td>\n",
       "      <td>5.633280e+09</td>\n",
       "      <td>100.0</td>\n",
       "      <td>62.0</td>\n",
       "    </tr>\n",
       "  </tbody>\n",
       "</table>\n",
       "</div>"
      ],
      "text/plain": [
       "   subject_id  BMI (kg/m2)  Height (Inches)  Weight (Lbs)  BMI (kg/m2)_date  \\\n",
       "0    10000032         18.2             60.0         93.03      6.645802e+09   \n",
       "1    10000117         18.9             64.0        110.00      6.775574e+09   \n",
       "2    10000635         34.8             67.0        222.10      5.438275e+09   \n",
       "3    10000719         37.0             67.0        236.00      5.392138e+09   \n",
       "4    10000826         22.3             68.0        147.00      5.633280e+09   \n",
       "\n",
       "   Blood Pressure_date  Height (Inches)_date  Weight (Lbs)_date  Systolic BP  \\\n",
       "0         6.643382e+09          6.641914e+09       6.645802e+09         98.0   \n",
       "1         6.775574e+09          6.775574e+09       6.775574e+09        108.0   \n",
       "2         5.438275e+09          5.438275e+09       5.438275e+09        148.0   \n",
       "3         5.392138e+09          5.392138e+09       5.392138e+09        144.0   \n",
       "4         5.633280e+09          5.613754e+09       5.633280e+09        100.0   \n",
       "\n",
       "   Diastolic BP  \n",
       "0          66.0  \n",
       "1          74.0  \n",
       "2          63.0  \n",
       "3          88.0  \n",
       "4          62.0  "
      ]
     },
     "execution_count": 7,
     "metadata": {},
     "output_type": "execute_result"
    }
   ],
   "source": [
    "df.head()"
   ]
  },
  {
   "cell_type": "code",
   "execution_count": 8,
   "metadata": {},
   "outputs": [
    {
     "data": {
      "text/plain": [
       "subject_id                int64\n",
       "BMI (kg/m2)             float64\n",
       "Height (Inches)         float64\n",
       "Weight (Lbs)            float64\n",
       "BMI (kg/m2)_date        float64\n",
       "Blood Pressure_date     float64\n",
       "Height (Inches)_date    float64\n",
       "Weight (Lbs)_date       float64\n",
       "Systolic BP             float64\n",
       "Diastolic BP            float64\n",
       "dtype: object"
      ]
     },
     "execution_count": 8,
     "metadata": {},
     "output_type": "execute_result"
    }
   ],
   "source": [
    "df.dtypes"
   ]
  },
  {
   "cell_type": "code",
   "execution_count": 9,
   "metadata": {},
   "outputs": [],
   "source": [
    "# Export CSV for later use\n",
    "df.to_csv('processed_data/omr.csv', index=False)"
   ]
  }
 ],
 "metadata": {
  "kernelspec": {
   "display_name": "Python 3",
   "language": "python",
   "name": "python3"
  },
  "language_info": {
   "codemirror_mode": {
    "name": "ipython",
    "version": 3
   },
   "file_extension": ".py",
   "mimetype": "text/x-python",
   "name": "python",
   "nbconvert_exporter": "python",
   "pygments_lexer": "ipython3",
   "version": "3.10.1"
  }
 },
 "nbformat": 4,
 "nbformat_minor": 2
}

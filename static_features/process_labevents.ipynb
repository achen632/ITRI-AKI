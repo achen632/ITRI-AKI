{
 "cells": [
  {
   "cell_type": "code",
   "execution_count": 9,
   "metadata": {},
   "outputs": [],
   "source": [
    "import numpy as np\n",
    "import pandas as pd\n",
    "import matplotlib.pyplot as plt"
   ]
  },
  {
   "cell_type": "code",
   "execution_count": 10,
   "metadata": {},
   "outputs": [],
   "source": [
    "# Create header (first write to CSV) and template (for consecutive chunk reads) for df\n",
    "path_labitems   = 'MIMIC-IV v2.2/hosp/d_labitems.csv'\n",
    "labitems        = pd.read_csv(path_labitems)\n",
    "\n",
    "template_id     = labitems.pivot_table(index='label', columns='itemid', aggfunc='size')\n",
    "template_name   = labitems.pivot_table(index='label', columns='itemid', aggfunc='size')"
   ]
  },
  {
   "cell_type": "code",
   "execution_count": 11,
   "metadata": {},
   "outputs": [],
   "source": [
    "# Create template with ids\n",
    "template_id.columns.name = None\n",
    "template_id.index.name = None\n",
    "template_id.insert(0, 'subject_id', 0)\n",
    "template_id = template_id.iloc[0:0]"
   ]
  },
  {
   "cell_type": "code",
   "execution_count": 12,
   "metadata": {},
   "outputs": [],
   "source": [
    "# Create template with names and write it to file\n",
    "for i in template_name.columns:\n",
    "    template_name.rename(columns={i: labitems.set_index('itemid').loc[int(i)]['label']}, inplace=True)\n",
    "template_name.columns.name = None\n",
    "template_name.index.name = 'subject_id'\n",
    "template_name = template_name.iloc[0:0]\n",
    "output_file_path = 'processed_data/labevents.csv'\n",
    "template_name.to_csv(output_file_path)"
   ]
  },
  {
   "cell_type": "code",
   "execution_count": 13,
   "metadata": {},
   "outputs": [],
   "source": [
    "# Load data\n",
    "path_labevents  = path_labevents  = 'MIMIC-IV v2.2/hosp/labevents.csv'\n",
    "reader          = pd.read_csv(path_labevents, chunksize=10000000)"
   ]
  },
  {
   "cell_type": "code",
   "execution_count": 14,
   "metadata": {},
   "outputs": [],
   "source": [
    "i = 0\n",
    "while True:\n",
    "    try:\n",
    "        df_labevents = next(reader)\n",
    "    except StopIteration:\n",
    "        print(\"No more chunks left.\")\n",
    "        break\n",
    "\n",
    "    if i == 10:\n",
    "        break\n",
    "\n",
    "    # Keep most recent lab values for each subject\n",
    "    df = df_labevents.sort_values(by=['subject_id', 'itemid', 'charttime'], ascending=[True, True, False])\n",
    "    df.drop_duplicates(subset=['subject_id', 'itemid'], keep='first', inplace=True)\n",
    "\n",
    "    # Drop irrelevant columns\n",
    "    df = df[['subject_id', 'itemid', 'valuenum']]\n",
    "\n",
    "    # Reformat table\n",
    "    df.reset_index(drop=True, inplace=True)\n",
    "    df = df.pivot_table(index='subject_id', columns='itemid', values='valuenum', aggfunc='mean')\n",
    "    df.insert(0, 'subject_id', df.index)\n",
    "    df.reset_index(drop=True, inplace=True)\n",
    "    \n",
    "    # Update df formatting to match header\n",
    "    missing_columns = set(template_id.columns) - set(df.columns)\n",
    "    new_columns = {col: pd.Series([pd.NA] * len(df), name=col) for col in missing_columns}\n",
    "    new_columns_df = pd.concat(new_columns.values(), axis=1)\n",
    "    df = pd.concat([df, new_columns_df], axis=1)\n",
    "\n",
    "    df.to_csv(output_file_path, mode='a', header=False, index=False)\n",
    "\n",
    "    i += 1\n",
    "\n",
    "    print(i)"
   ]
  }
 ],
 "metadata": {
  "kernelspec": {
   "display_name": "Python 3",
   "language": "python",
   "name": "python3"
  },
  "language_info": {
   "codemirror_mode": {
    "name": "ipython",
    "version": 3
   },
   "file_extension": ".py",
   "mimetype": "text/x-python",
   "name": "python",
   "nbconvert_exporter": "python",
   "pygments_lexer": "ipython3",
   "version": "3.10.1"
  }
 },
 "nbformat": 4,
 "nbformat_minor": 2
}

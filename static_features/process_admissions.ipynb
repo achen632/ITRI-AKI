{
 "cells": [
  {
   "cell_type": "code",
   "execution_count": 7,
   "metadata": {},
   "outputs": [],
   "source": [
    "import numpy as np\n",
    "import pandas as pd\n",
    "import matplotlib.pyplot as plt"
   ]
  },
  {
   "cell_type": "code",
   "execution_count": 8,
   "metadata": {},
   "outputs": [],
   "source": [
    "# Load data\n",
    "path_admissions = 'MIMIC-IV v2.2/hosp/admissions.csv'\n",
    "df              = pd.read_csv(path_admissions)"
   ]
  },
  {
   "cell_type": "code",
   "execution_count": 9,
   "metadata": {},
   "outputs": [],
   "source": [
    "# Drop irrelevant columns\n",
    "df = df[['subject_id', 'admittime', 'marital_status', 'race']]\n",
    "df = df.drop_duplicates(subset=['subject_id'], keep='last')\n",
    "\n",
    "# Convert values to int\n",
    "df['admittime'] = pd.to_datetime(df['admittime'])\n",
    "df['admittime'] = df['admittime'].apply(lambda x: x.timestamp())\n",
    "df['marital_status'] = df['marital_status'].map({'SINGLE': 0, 'MARRIED': 1, 'WIDOWED': 2, 'DIVORCED': 3})\n",
    "df['marital_status'] = df['marital_status'].fillna(-1).astype(int)"
   ]
  },
  {
   "cell_type": "code",
   "execution_count": 10,
   "metadata": {},
   "outputs": [
    {
     "data": {
      "text/html": [
       "<div>\n",
       "<style scoped>\n",
       "    .dataframe tbody tr th:only-of-type {\n",
       "        vertical-align: middle;\n",
       "    }\n",
       "\n",
       "    .dataframe tbody tr th {\n",
       "        vertical-align: top;\n",
       "    }\n",
       "\n",
       "    .dataframe thead th {\n",
       "        text-align: right;\n",
       "    }\n",
       "</style>\n",
       "<table border=\"1\" class=\"dataframe\">\n",
       "  <thead>\n",
       "    <tr style=\"text-align: right;\">\n",
       "      <th></th>\n",
       "      <th>subject_id</th>\n",
       "      <th>admittime</th>\n",
       "      <th>marital_status</th>\n",
       "      <th>race</th>\n",
       "    </tr>\n",
       "  </thead>\n",
       "  <tbody>\n",
       "    <tr>\n",
       "      <th>3</th>\n",
       "      <td>10000032</td>\n",
       "      <td>6.644637e+09</td>\n",
       "      <td>2</td>\n",
       "      <td>WHITE</td>\n",
       "    </tr>\n",
       "    <tr>\n",
       "      <th>4</th>\n",
       "      <td>10000068</td>\n",
       "      <td>6.001255e+09</td>\n",
       "      <td>0</td>\n",
       "      <td>WHITE</td>\n",
       "    </tr>\n",
       "    <tr>\n",
       "      <th>6</th>\n",
       "      <td>10000084</td>\n",
       "      <td>6.027110e+09</td>\n",
       "      <td>1</td>\n",
       "      <td>WHITE</td>\n",
       "    </tr>\n",
       "    <tr>\n",
       "      <th>7</th>\n",
       "      <td>10000108</td>\n",
       "      <td>6.113834e+09</td>\n",
       "      <td>0</td>\n",
       "      <td>WHITE</td>\n",
       "    </tr>\n",
       "    <tr>\n",
       "      <th>9</th>\n",
       "      <td>10000117</td>\n",
       "      <td>6.744190e+09</td>\n",
       "      <td>3</td>\n",
       "      <td>WHITE</td>\n",
       "    </tr>\n",
       "  </tbody>\n",
       "</table>\n",
       "</div>"
      ],
      "text/plain": [
       "   subject_id     admittime  marital_status   race\n",
       "3    10000032  6.644637e+09               2  WHITE\n",
       "4    10000068  6.001255e+09               0  WHITE\n",
       "6    10000084  6.027110e+09               1  WHITE\n",
       "7    10000108  6.113834e+09               0  WHITE\n",
       "9    10000117  6.744190e+09               3  WHITE"
      ]
     },
     "execution_count": 10,
     "metadata": {},
     "output_type": "execute_result"
    }
   ],
   "source": [
    "df.head()"
   ]
  },
  {
   "cell_type": "code",
   "execution_count": 11,
   "metadata": {},
   "outputs": [
    {
     "data": {
      "text/plain": [
       "subject_id          int64\n",
       "admittime         float64\n",
       "marital_status      int32\n",
       "race               object\n",
       "dtype: object"
      ]
     },
     "execution_count": 11,
     "metadata": {},
     "output_type": "execute_result"
    }
   ],
   "source": [
    "df.dtypes"
   ]
  },
  {
   "cell_type": "code",
   "execution_count": 12,
   "metadata": {},
   "outputs": [],
   "source": [
    "# Export CSV for later use\n",
    "df.to_csv('processed_data/admissions.csv', index=False)"
   ]
  }
 ],
 "metadata": {
  "kernelspec": {
   "display_name": "Python 3",
   "language": "python",
   "name": "python3"
  },
  "language_info": {
   "codemirror_mode": {
    "name": "ipython",
    "version": 3
   },
   "file_extension": ".py",
   "mimetype": "text/x-python",
   "name": "python",
   "nbconvert_exporter": "python",
   "pygments_lexer": "ipython3",
   "version": "3.10.1"
  }
 },
 "nbformat": 4,
 "nbformat_minor": 2
}
